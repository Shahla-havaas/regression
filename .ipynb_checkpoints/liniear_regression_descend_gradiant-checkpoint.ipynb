{
 "cells": [
  {
   "cell_type": "code",
   "execution_count": 1,
   "metadata": {},
   "outputs": [],
   "source": [
    "import numpy as np\n",
    "import pandas as pd\n",
    "import matplotlib.pyplot as plt\n"
   ]
  },
  {
   "cell_type": "code",
   "execution_count": 8,
   "metadata": {},
   "outputs": [
    {
     "name": "stdout",
     "output_type": "stream",
     "text": [
      "(100, 2)\n",
      "            x          y\n",
      "0   32.502345  31.707006\n",
      "1   53.426804  68.777596\n",
      "2   61.530358  62.562382\n",
      "3   47.475640  71.546632\n",
      "4   59.813208  87.230925\n",
      "..        ...        ...\n",
      "95  50.030174  81.536991\n",
      "96  49.239765  72.111832\n",
      "97  50.039576  85.232007\n",
      "98  48.149859  66.224958\n",
      "99  25.128485  53.454394\n",
      "\n",
      "[100 rows x 2 columns]\n"
     ]
    }
   ],
   "source": [
    "data=pd.read_csv('data_regression.csv')\n",
    "print(data.shape)\n",
    "print(data)"
   ]
  },
  {
   "cell_type": "code",
   "execution_count": 15,
   "metadata": {},
   "outputs": [
    {
     "name": "stdout",
     "output_type": "stream",
     "text": [
      "X= 0     32.502345\n",
      "1     53.426804\n",
      "2     61.530358\n",
      "3     47.475640\n",
      "4     59.813208\n",
      "        ...    \n",
      "95    50.030174\n",
      "96    49.239765\n",
      "97    50.039576\n",
      "98    48.149859\n",
      "99    25.128485\n",
      "Name: x, Length: 100, dtype: float64\n",
      "Y= 0     31.707006\n",
      "1     68.777596\n",
      "2     62.562382\n",
      "3     71.546632\n",
      "4     87.230925\n",
      "        ...    \n",
      "95    81.536991\n",
      "96    72.111832\n",
      "97    85.232007\n",
      "98    66.224958\n",
      "99    53.454394\n",
      "Name: y, Length: 100, dtype: float64\n",
      "<class 'pandas.core.series.Series'>\n",
      "<class 'pandas.core.series.Series'>\n"
     ]
    }
   ],
   "source": [
    "X=data['x']# get all x column\n",
    "Y=data.iloc[:,1] #get all y coloumn by another way\n",
    "print(\"X=\",X)\n",
    "print(\"Y=\",Y)\n",
    "print(type(X))\n",
    "print(type(Y))\n",
    "# two ways have same result and same type of result"
   ]
  },
  {
   "cell_type": "code",
   "execution_count": 43,
   "metadata": {},
   "outputs": [
    {
     "data": {
      "image/png": "[encoded data removed]",
      "text/plain": [
       "<Figure size 432x288 with 1 Axes>"
      ]
     },
     "metadata": {
      "needs_background": "light"
     },
     "output_type": "display_data"
    }
   ],
   "source": [
    "plt.scatter(X,Y) ## draw Scatter-Dot Plot \n",
    "plt.show()"
   ]
  },
  {
   "cell_type": "code",
   "execution_count": 73,
   "metadata": {},
   "outputs": [
    {
     "name": "stdout",
     "output_type": "stream",
     "text": [
      "teta0= 0.03948545722040321\n",
      "teta1= 1.4787160307600948\n"
     ]
    },
    {
     "data": {
      "image/png": "[encoded data removed]",
      "text/plain": [
       "<Figure size 432x288 with 1 Axes>"
      ]
     },
     "metadata": {
      "needs_background": "light"
     },
     "output_type": "display_data"
    }
   ],
   "source": [
    "#train model to find teta0 and teta1\n",
    "#declare parameters and initial teta0 and teta1\n",
    "lr=0.0001\n",
    "teta0=0\n",
    "teta1=1\n",
    "iteration=1000\n",
    "n=float(len(X))\n",
    "for i in range(iteration):\n",
    "    y_predict=teta0+(teta1*X)\n",
    "    # Derivative for teat0\n",
    "    d_teta0=(1/n)* sum(y_predict-Y)\n",
    "    d_teta1=(1/n)*sum(X*(y_predict-Y) )\n",
    "    teta0=teta0-(lr *d_teta0)\n",
    "    teta1=teta1-(lr*d_teta1)\n",
    "    \n",
    "print(\"teta0=\",teta0)\n",
    "print(\"teta1=\",teta1)\n",
    "Y_pred = teta1*X + teta1\n",
    "plt.scatter(X,Y) ## draw Scatter-Dot Plot \n",
    "plt.plot([min(X), max(X)], [min(Y_pred), max(Y_pred)], color='red')  # regression line\n",
    "#plt.plot([X[0], X[n-1]], [Y_pred[0], Y_pred[n-1]], color='red')  # regression line\n",
    "\n",
    "plt.show()"
   ]
  },
  {
   "cell_type": "code",
   "execution_count": null,
   "metadata": {},
   "outputs": [],
   "source": []
  }
 ],
 "metadata": {
  "kernelspec": {
   "display_name": "Python 3 (ipykernel)",
   "language": "python",
   "name": "python3"
  },
  "language_info": {
   "codemirror_mode": {
    "name": "ipython",
    "version": 3
   },
   "file_extension": ".py",
   "mimetype": "text/x-python",
   "name": "python",
   "nbconvert_exporter": "python",
   "pygments_lexer": "ipython3",
   "version": "3.9.7"
  }
 },
 "nbformat": 4,
 "nbformat_minor": 4
}
